{
 "cells": [
  {
   "cell_type": "code",
   "execution_count": 1,
   "id": "a9abef6e",
   "metadata": {},
   "outputs": [],
   "source": [
    "import mysql.connector"
   ]
  },
  {
   "cell_type": "code",
   "execution_count": 2,
   "id": "60bb9212",
   "metadata": {},
   "outputs": [],
   "source": [
    "connection = mysql.connector.connect(\n",
    "      host =\"localhost\",\n",
    "      user =\"root\",\n",
    "      passwd =\"root\",\n",
    "      database=\"ecom_db\"\n",
    "    )"
   ]
  },
  {
   "cell_type": "code",
   "execution_count": 3,
   "id": "81c92f5b",
   "metadata": {},
   "outputs": [],
   "source": [
    "cursor_obj=connection.cursor()"
   ]
  },
  {
   "cell_type": "code",
   "execution_count": 4,
   "id": "8ee86cca",
   "metadata": {},
   "outputs": [],
   "source": [
    "from datetime import date, datetime, timedelta"
   ]
  },
  {
   "cell_type": "code",
   "execution_count": 5,
   "id": "bcae25a5",
   "metadata": {},
   "outputs": [],
   "source": [
    "\n",
    "tbl_query = \"create table if not exists student(student_id int primary key,student_name varchar(20) not null,contact_no varchar(10) unique);\"\n"
   ]
  },
  {
   "cell_type": "code",
   "execution_count": 6,
   "id": "9661d53a",
   "metadata": {},
   "outputs": [],
   "source": [
    "cursor_obj.execute(tbl_query)\n",
    "connection.commit()"
   ]
  },
  {
   "cell_type": "code",
   "execution_count": 7,
   "id": "78e31033",
   "metadata": {},
   "outputs": [],
   "source": [
    "cursor_obj.close()\n",
    "connection.close()"
   ]
  },
  {
   "cell_type": "code",
   "execution_count": null,
   "id": "1e70bdeb",
   "metadata": {},
   "outputs": [],
   "source": []
  }
 ],
 "metadata": {
  "kernelspec": {
   "display_name": "Python 3 (ipykernel)",
   "language": "python",
   "name": "python3"
  },
  "language_info": {
   "codemirror_mode": {
    "name": "ipython",
    "version": 3
   },
   "file_extension": ".py",
   "mimetype": "text/x-python",
   "name": "python",
   "nbconvert_exporter": "python",
   "pygments_lexer": "ipython3",
   "version": "3.9.13"
  }
 },
 "nbformat": 4,
 "nbformat_minor": 5
}
