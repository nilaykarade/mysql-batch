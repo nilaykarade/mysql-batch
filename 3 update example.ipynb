{
 "cells": [
  {
   "cell_type": "code",
   "execution_count": 5,
   "id": "a9abef6e",
   "metadata": {},
   "outputs": [],
   "source": [
    "import mysql.connector"
   ]
  },
  {
   "cell_type": "code",
   "execution_count": 6,
   "id": "60bb9212",
   "metadata": {},
   "outputs": [],
   "source": [
    "connection = mysql.connector.connect(\n",
    "      host =\"localhost\",\n",
    "      user =\"root\",\n",
    "      passwd =\"root\",\n",
    "      database=\"ecom_db\"\n",
    "    )"
   ]
  },
  {
   "cell_type": "code",
   "execution_count": 7,
   "id": "81c92f5b",
   "metadata": {},
   "outputs": [],
   "source": [
    "cursor_obj=connection.cursor()"
   ]
  },
  {
   "cell_type": "code",
   "execution_count": 8,
   "id": "8ee86cca",
   "metadata": {},
   "outputs": [],
   "source": [
    "from datetime import date, datetime, timedelta"
   ]
  },
  {
   "cell_type": "code",
   "execution_count": 9,
   "id": "bcae25a5",
   "metadata": {},
   "outputs": [],
   "source": [
    "\n",
    "update_customer_QUERY = (\"update customers set customer_mobile_no='2222233333' where customer_id=100\")\n"
   ]
  },
  {
   "cell_type": "code",
   "execution_count": 10,
   "id": "9661d53a",
   "metadata": {},
   "outputs": [],
   "source": [
    "cursor_obj.execute(update_customer_QUERY)\n",
    "connection.commit()"
   ]
  },
  {
   "cell_type": "code",
   "execution_count": 11,
   "id": "78e31033",
   "metadata": {},
   "outputs": [],
   "source": [
    "cursor_obj.close()\n",
    "connection.close()"
   ]
  },
  {
   "cell_type": "code",
   "execution_count": null,
   "id": "1e70bdeb",
   "metadata": {},
   "outputs": [],
   "source": []
  }
 ],
 "metadata": {
  "kernelspec": {
   "display_name": "Python 3 (ipykernel)",
   "language": "python",
   "name": "python3"
  },
  "language_info": {
   "codemirror_mode": {
    "name": "ipython",
    "version": 3
   },
   "file_extension": ".py",
   "mimetype": "text/x-python",
   "name": "python",
   "nbconvert_exporter": "python",
   "pygments_lexer": "ipython3",
   "version": "3.9.13"
  }
 },
 "nbformat": 4,
 "nbformat_minor": 5
}
