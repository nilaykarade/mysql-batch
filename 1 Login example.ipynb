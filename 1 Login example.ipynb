{
 "cells": [
  {
   "cell_type": "code",
   "execution_count": 1,
   "id": "23c07fea",
   "metadata": {},
   "outputs": [
    {
     "name": "stdout",
     "output_type": "stream",
     "text": [
      "Collecting mysql-connector-python\n",
      "  Downloading mysql_connector_python-8.0.31-cp39-cp39-win_amd64.whl (7.9 MB)\n",
      "     ---------------------------------------- 7.9/7.9 MB 6.8 MB/s eta 0:00:00\n",
      "Collecting protobuf<=3.20.1,>=3.11.0\n",
      "  Using cached protobuf-3.20.1-cp39-cp39-win_amd64.whl (904 kB)\n",
      "Installing collected packages: protobuf, mysql-connector-python\n",
      "  Attempting uninstall: protobuf\n",
      "    Found existing installation: protobuf 3.20.3\n",
      "    Uninstalling protobuf-3.20.3:\n",
      "      Successfully uninstalled protobuf-3.20.3\n",
      "Successfully installed mysql-connector-python-8.0.31 protobuf-3.20.1\n"
     ]
    }
   ],
   "source": [
    "!pip install mysql-connector-python"
   ]
  },
  {
   "cell_type": "code",
   "execution_count": 2,
   "id": "df506454",
   "metadata": {},
   "outputs": [],
   "source": [
    "import mysql.connector"
   ]
  },
  {
   "cell_type": "code",
   "execution_count": null,
   "id": "cab48cd3",
   "metadata": {},
   "outputs": [],
   "source": []
  },
  {
   "cell_type": "code",
   "execution_count": 29,
   "id": "9c696562",
   "metadata": {},
   "outputs": [],
   "source": [
    "connection = mysql.connector.connect(\n",
    "      host =\"localhost\",\n",
    "      user =\"root\",\n",
    "      passwd =\"root\",\n",
    "      database=\"ecom_db\"\n",
    "    )"
   ]
  },
  {
   "cell_type": "code",
   "execution_count": null,
   "id": "9f8d5bb3",
   "metadata": {},
   "outputs": [],
   "source": [
    "#Login examle"
   ]
  },
  {
   "cell_type": "code",
   "execution_count": 19,
   "id": "a06f740d",
   "metadata": {},
   "outputs": [
    {
     "name": "stdout",
     "output_type": "stream",
     "text": [
      "enter username nilay@gmail.com\n",
      "enter password 123\n"
     ]
    }
   ],
   "source": [
    "username=input(\"enter username \")\n",
    "passcode=input(\"enter password \")"
   ]
  },
  {
   "cell_type": "code",
   "execution_count": 20,
   "id": "0c01ad2f",
   "metadata": {},
   "outputs": [
    {
     "data": {
      "text/plain": [
       "'nilay@gmail.com'"
      ]
     },
     "execution_count": 20,
     "metadata": {},
     "output_type": "execute_result"
    }
   ],
   "source": [
    "username"
   ]
  },
  {
   "cell_type": "code",
   "execution_count": 21,
   "id": "a16b81c3",
   "metadata": {},
   "outputs": [
    {
     "data": {
      "text/plain": [
       "'123'"
      ]
     },
     "execution_count": 21,
     "metadata": {},
     "output_type": "execute_result"
    }
   ],
   "source": [
    "passcode"
   ]
  },
  {
   "cell_type": "code",
   "execution_count": 22,
   "id": "536d1c52",
   "metadata": {},
   "outputs": [
    {
     "data": {
      "text/plain": [
       "\"select customer_email, passcode from customers where customer_email = 'nilay@gmail.com' and passcode='123'\""
      ]
     },
     "execution_count": 22,
     "metadata": {},
     "output_type": "execute_result"
    }
   ],
   "source": [
    "query = \"select customer_email, passcode from customers where customer_email = '\"+username+\"' and passcode='\"+passcode+\"'\"\n",
    "query"
   ]
  },
  {
   "cell_type": "code",
   "execution_count": null,
   "id": "70747002",
   "metadata": {},
   "outputs": [],
   "source": []
  },
  {
   "cell_type": "code",
   "execution_count": 23,
   "id": "006adc25",
   "metadata": {},
   "outputs": [],
   "source": [
    "cursor_obj=connection.cursor()\n",
    "cursor_obj.execute(query)"
   ]
  },
  {
   "cell_type": "code",
   "execution_count": 24,
   "id": "71fe02d4",
   "metadata": {},
   "outputs": [],
   "source": [
    "result=cursor_obj.fetchall()"
   ]
  },
  {
   "cell_type": "code",
   "execution_count": 25,
   "id": "19b43a30",
   "metadata": {},
   "outputs": [
    {
     "data": {
      "text/plain": [
       "[]"
      ]
     },
     "execution_count": 25,
     "metadata": {},
     "output_type": "execute_result"
    }
   ],
   "source": [
    "result"
   ]
  },
  {
   "cell_type": "code",
   "execution_count": 26,
   "id": "24f9487c",
   "metadata": {},
   "outputs": [
    {
     "data": {
      "text/plain": [
       "0"
      ]
     },
     "execution_count": 26,
     "metadata": {},
     "output_type": "execute_result"
    }
   ],
   "source": [
    "len(result)"
   ]
  },
  {
   "cell_type": "code",
   "execution_count": 27,
   "id": "b9ab89e9",
   "metadata": {},
   "outputs": [
    {
     "name": "stdout",
     "output_type": "stream",
     "text": [
      "Invalid credentials\n"
     ]
    }
   ],
   "source": [
    "if len(result)==1:\n",
    "    print(\"Login successfully\")\n",
    "else:\n",
    "    print(\"Invalid credentials\")"
   ]
  },
  {
   "cell_type": "code",
   "execution_count": null,
   "id": "89d56708",
   "metadata": {},
   "outputs": [],
   "source": [
    "#insert customer data"
   ]
  },
  {
   "cell_type": "code",
   "execution_count": null,
   "id": "7b181d50",
   "metadata": {},
   "outputs": [],
   "source": []
  },
  {
   "cell_type": "code",
   "execution_count": null,
   "id": "5878f544",
   "metadata": {},
   "outputs": [],
   "source": []
  },
  {
   "cell_type": "code",
   "execution_count": 28,
   "id": "a277ae61",
   "metadata": {},
   "outputs": [],
   "source": [
    "cursor_obj.close()\n",
    "connection.close()"
   ]
  },
  {
   "cell_type": "code",
   "execution_count": null,
   "id": "88adbab0",
   "metadata": {},
   "outputs": [],
   "source": []
  }
 ],
 "metadata": {
  "kernelspec": {
   "display_name": "Python 3 (ipykernel)",
   "language": "python",
   "name": "python3"
  },
  "language_info": {
   "codemirror_mode": {
    "name": "ipython",
    "version": 3
   },
   "file_extension": ".py",
   "mimetype": "text/x-python",
   "name": "python",
   "nbconvert_exporter": "python",
   "pygments_lexer": "ipython3",
   "version": "3.9.13"
  }
 },
 "nbformat": 4,
 "nbformat_minor": 5
}
