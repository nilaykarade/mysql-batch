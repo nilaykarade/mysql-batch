{
 "cells": [
  {
   "cell_type": "code",
   "execution_count": 4,
   "id": "a9abef6e",
   "metadata": {},
   "outputs": [],
   "source": [
    "import mysql.connector"
   ]
  },
  {
   "cell_type": "code",
   "execution_count": 5,
   "id": "60bb9212",
   "metadata": {},
   "outputs": [],
   "source": [
    "connection = mysql.connector.connect(\n",
    "      host =\"localhost\",\n",
    "      user =\"root\",\n",
    "      passwd =\"root\",\n",
    "      database=\"ecom_db\"\n",
    "    )"
   ]
  },
  {
   "cell_type": "code",
   "execution_count": 6,
   "id": "81c92f5b",
   "metadata": {},
   "outputs": [],
   "source": [
    "cursor_obj=connection.cursor()"
   ]
  },
  {
   "cell_type": "code",
   "execution_count": 7,
   "id": "69ea54be",
   "metadata": {},
   "outputs": [],
   "source": [
    "from datetime import date, datetime, timedelta"
   ]
  },
  {
   "cell_type": "code",
   "execution_count": 8,
   "id": "c9d86e0f",
   "metadata": {},
   "outputs": [],
   "source": [
    "\n",
    "add_customer_query = (\"INSERT INTO customers \"\n",
    "             \"(customer_id,customer_name,customer_email,customer_mobile_no,passcode,customer_delivery_address,customer_date_joined,customer_premium_membership) \"\n",
    "             \"VALUES (%(customer_id)s, %(customer_name)s, %(customer_email)s, %(customer_mobile_no)s, %(passcode)s, %(customer_delivery_address)s, %(customer_date_joined)s, %(customer_premium_membership)s)\")\n",
    "\n",
    "\n",
    "\n",
    "data_customer= {\n",
    "    \n",
    "    'customer_id':100,\n",
    "    'customer_name':'Rose',\n",
    "    'customer_email':'rose@gmail.com',\n",
    "    'customer_mobile_no':'5555555555',\n",
    "    'passcode':'sdsdsds',\n",
    "    'customer_delivery_address':'Delhi',\n",
    "    'customer_date_joined':date(2021,7,22),\n",
    "    'customer_premium_membership':0\n",
    "}\n",
    "    \n",
    "  \n",
    "cursor_obj.execute(add_customer_query, data_customer)\n",
    "\n",
    "\n",
    "# Make sure data is committed to the database\n",
    "connection.commit()"
   ]
  },
  {
   "cell_type": "code",
   "execution_count": null,
   "id": "9f06a397",
   "metadata": {},
   "outputs": [],
   "source": []
  },
  {
   "cell_type": "code",
   "execution_count": null,
   "id": "8fc02b6c",
   "metadata": {},
   "outputs": [],
   "source": []
  },
  {
   "cell_type": "code",
   "execution_count": 9,
   "id": "78e31033",
   "metadata": {},
   "outputs": [],
   "source": [
    "cursor_obj.close()\n",
    "connection.close()"
   ]
  },
  {
   "cell_type": "code",
   "execution_count": null,
   "id": "1e70bdeb",
   "metadata": {},
   "outputs": [],
   "source": []
  }
 ],
 "metadata": {
  "kernelspec": {
   "display_name": "Python 3 (ipykernel)",
   "language": "python",
   "name": "python3"
  },
  "language_info": {
   "codemirror_mode": {
    "name": "ipython",
    "version": 3
   },
   "file_extension": ".py",
   "mimetype": "text/x-python",
   "name": "python",
   "nbconvert_exporter": "python",
   "pygments_lexer": "ipython3",
   "version": "3.9.13"
  }
 },
 "nbformat": 4,
 "nbformat_minor": 5
}
